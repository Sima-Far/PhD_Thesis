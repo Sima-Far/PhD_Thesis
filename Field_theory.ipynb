import copy
import sys
import random 
import numpy as np
import statistics
import numpy as np
import scipy as sp
#pip install scipy --upgrade 
import seaborn as sns
import networkx as nx
import matplotlib.pyplot as plt
from matplotlib import colors


import matplotlib.colors as mcolors
import pandas as pd
import feather as ft
import geopandas as gpd
import math
import geopy.distance


from matplotlib import cm
from matplotlib.colors import ListedColormap, LinearSegmentedColormap
import matplotlib.colors as colors
import matplotlib.cm as cmx

